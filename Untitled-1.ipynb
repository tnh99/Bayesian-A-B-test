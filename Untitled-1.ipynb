{
    "cells": [
        {
            "cell_type": "code",
            "execution_count": 3,
            "metadata": {},
            "outputs": [],
            "source": [
                "import pandas as pd\n",
                "from datetime import timedelta\n",
                "from bayes import gaussian_ab_test\n",
                "import json\n",
                "import matplotlib.pyplot as plt\n",
                "\n",
                "\n",
                "def preprocess(data, day_window = 3, **kwargs):\n",
                "    #cast day0date and act date to date\n",
                "    data.loc[:,'day0_date'] = pd.to_datetime(data.loc[:,'day0_date'])\n",
                "    data.loc[:,'act_date'] = pd.to_datetime(data.loc[:,'act_date'])\n",
                "    if (data.act_date.max() - data.day0_date.min()) > timedelta(3):\n",
                "        data = data[data.loc[:,'act_date'] < data.loc[:,'act_date'].max()] #drop max act_date \n",
                "        data = data[data.loc[:,'day0_date'] <= data.loc[:,'act_date'].max()-timedelta(days=day_window)] #find range day0_date\n",
                "        data = data[(data.loc[:,'day_diff'] <= day_window) & (data.loc[:,'day_diff']>= 0)]\n",
                "\n",
                "    for key, value in kwargs.items():\n",
                "        data = data[data.loc[:,key] == value]\n",
                "    \n",
                "    data['combined_ad'] = data['rv_imp_sum'] * 1.3 + data['is_imp_sum']\n",
                "    return data"
            ]
        },
        {
            "cell_type": "code",
            "execution_count": 4,
            "metadata": {},
            "outputs": [],
            "source": [
                "data = pd.read_csv(r'C:\\Users\\Muc\\Desktop\\abtest_tool\\SZi_exp3.csv')\n",
                "df = preprocess(data)"
            ]
        },
        {
            "cell_type": "code",
            "execution_count": 6,
            "metadata": {},
            "outputs": [],
            "source": [
                "metrics = ['time_in_game_sum', 'rv_imp_sum', 'is_imp_sum', 'battle_end_sum', 'combined_ad']\n",
                "descriptive_metric = []\n",
                "number_user = df.groupby('experiment_group').agg({'resettable_device_id_or_app_instance_id':pd.Series.nunique})\n",
                "for i in metrics:\n",
                "    descriptive_metric.append(df.groupby('experiment_group').agg({i: ['mean', 'std']}))\n",
                "# ab_data = pd.concat([aggregate_metric,number_user], axis=1)\n",
                "descriptive_metric = pd.concat(descriptive_metric, axis=1)"
            ]
        },
        {
            "cell_type": "code",
            "execution_count": 7,
            "metadata": {},
            "outputs": [],
            "source": [
                "for metric in metrics:\n",
                "    data_metrics = descriptive_metric[metric]\n",
                "    na, nb = number_user.resettable_device_id_or_app_instance_id\n",
                "    ma, mb = data_metrics['mean']\n",
                "    sa, sb = data_metrics['std']\n",
                "    globals()[metric] = gaussian_ab_test(m_a=ma, s_a=sa, n_a=na, m_b=mb, s_b=sb, n_b=nb)"
            ]
        },
        {
            "cell_type": "code",
            "execution_count": 21,
            "metadata": {},
            "outputs": [],
            "source": [
                "columns = ['Risk of choosing Baseline', 'Risk of Choosing Variation', 'Control', 'Variation', 'Chance to beat Control']"
            ]
        },
        {
            "cell_type": "code",
            "execution_count": 10,
            "metadata": {},
            "outputs": [],
            "source": [
                "for i in \n",
                "result = pd.DataFrame(\n",
                "    {\n",
                "        'Risk of Choosing Baseline' : ['{:.2%}'.format(time_in_game_sum[\"risk\"][0]/time_in_game_sum['mean']['m_b'] ), str(round(time_in_game_sum[\"risk\"][0],4)) + \" / user\" ]\n",
                "        ,'Risk of Choosing Variation' : ['{:.2%}'.format(time_in_game_sum[\"risk\"][1]/time_in_game_sum['mean']['m_a']), str(round(time_in_game_sum[\"risk\"][1],4)) + \" / user\" ]\n",
                "        ,'Control' : [time_in_game_sum['mean']['m_a'], str(round(number_user.iloc[0,0] * time_in_game_sum['mean']['m_a'],4)) + \" / \" + str(number_user.iloc[0,0])]\n",
                "        ,'Variation' : [time_in_game_sum['mean']['m_b'], str(round(number_user.iloc[1,0] * time_in_game_sum['mean']['m_b'],4)) + \" / \" + str(number_user.iloc[1,0])]\n",
                "        ,'Chance to beat Control' : ['{:.2%}'.format(time_in_game_sum['chance_to_win']),'-']\n",
                "        \n",
                "\n",
                "    }\n",
                "    )\n",
                "\n",
                "temp.index=['time_in_game_sum', '-']"
            ]
        },
        {
            "cell_type": "code",
            "execution_count": 11,
            "metadata": {},
            "outputs": [
                {
                    "data": {
                        "text/html": [
                            "<div>\n",
                            "<style scoped>\n",
                            "    .dataframe tbody tr th:only-of-type {\n",
                            "        vertical-align: middle;\n",
                            "    }\n",
                            "\n",
                            "    .dataframe tbody tr th {\n",
                            "        vertical-align: top;\n",
                            "    }\n",
                            "\n",
                            "    .dataframe thead th {\n",
                            "        text-align: right;\n",
                            "    }\n",
                            "</style>\n",
                            "<table border=\"1\" class=\"dataframe\">\n",
                            "  <thead>\n",
                            "    <tr style=\"text-align: right;\">\n",
                            "      <th></th>\n",
                            "      <th>Risk of Choosing Baseline</th>\n",
                            "      <th>Risk of Choosing Variation</th>\n",
                            "      <th>Control</th>\n",
                            "      <th>Variation</th>\n",
                            "      <th>Chance to beat Control</th>\n",
                            "    </tr>\n",
                            "  </thead>\n",
                            "  <tbody>\n",
                            "    <tr>\n",
                            "      <th>time_in_game_sum</th>\n",
                            "      <td>0.33%</td>\n",
                            "      <td>6.95%</td>\n",
                            "      <td>549.692333</td>\n",
                            "      <td>513.186036</td>\n",
                            "      <td>11.27%</td>\n",
                            "    </tr>\n",
                            "    <tr>\n",
                            "      <th>-</th>\n",
                            "      <td>1.6802 / user</td>\n",
                            "      <td>38.1865 / user</td>\n",
                            "      <td>771218.3426 / 1403</td>\n",
                            "      <td>729750.5431 / 1422</td>\n",
                            "      <td>-</td>\n",
                            "    </tr>\n",
                            "  </tbody>\n",
                            "</table>\n",
                            "</div>"
                        ],
                        "text/plain": [
                            "                 Risk of Choosing Baseline Risk of Choosing Variation  \\\n",
                            "time_in_game_sum                     0.33%                      6.95%   \n",
                            "-                            1.6802 / user             38.1865 / user   \n",
                            "\n",
                            "                             Control           Variation  \\\n",
                            "time_in_game_sum          549.692333          513.186036   \n",
                            "-                 771218.3426 / 1403  729750.5431 / 1422   \n",
                            "\n",
                            "                 Chance to beat Control  \n",
                            "time_in_game_sum                 11.27%  \n",
                            "-                                     -  "
                        ]
                    },
                    "execution_count": 11,
                    "metadata": {},
                    "output_type": "execute_result"
                }
            ],
            "source": [
                "temp"
            ]
        },
        {
            "cell_type": "code",
            "execution_count": 51,
            "metadata": {},
            "outputs": [
                {
                    "data": {
                        "text/plain": [
                            "0.11272024753369109"
                        ]
                    },
                    "execution_count": 51,
                    "metadata": {},
                    "output_type": "execute_result"
                }
            ],
            "source": [
                "time_in_game_sum['chance_to_win']"
            ]
        },
        {
            "cell_type": "code",
            "execution_count": 36,
            "metadata": {},
            "outputs": [
                {
                    "ename": "TypeError",
                    "evalue": "string indices must be integers",
                    "output_type": "error",
                    "traceback": [
                        "\u001b[1;31m---------------------------------------------------------------------------\u001b[0m",
                        "\u001b[1;31mTypeError\u001b[0m                                 Traceback (most recent call last)",
                        "\u001b[1;32m<ipython-input-36-ced7950d72f8>\u001b[0m in \u001b[0;36m<module>\u001b[1;34m\u001b[0m\n\u001b[1;32m----> 1\u001b[1;33m \u001b[0mtime_in_game_sum\u001b[0m\u001b[1;33m[\u001b[0m\u001b[1;34m'chance_to_win'\u001b[0m\u001b[1;33m]\u001b[0m\u001b[1;33m\u001b[0m\u001b[1;33m\u001b[0m\u001b[0m\n\u001b[0m",
                        "\u001b[1;31mTypeError\u001b[0m: string indices must be integers"
                    ]
                }
            ],
            "source": [
                "time_in_game_sum['chance_to_win']"
            ]
        },
        {
            "cell_type": "code",
            "execution_count": 34,
            "metadata": {},
            "outputs": [
                {
                    "ename": "TypeError",
                    "evalue": "string indices must be integers",
                    "output_type": "error",
                    "traceback": [
                        "\u001b[1;31m---------------------------------------------------------------------------\u001b[0m",
                        "\u001b[1;31mTypeError\u001b[0m                                 Traceback (most recent call last)",
                        "\u001b[1;32m<ipython-input-34-a7cc5df66b9d>\u001b[0m in \u001b[0;36m<module>\u001b[1;34m\u001b[0m\n\u001b[1;32m----> 1\u001b[1;33m \u001b[0mrv_imp_sum\u001b[0m\u001b[1;33m[\u001b[0m\u001b[1;34m\"risk\"\u001b[0m\u001b[1;33m]\u001b[0m\u001b[1;33m\u001b[0m\u001b[1;33m\u001b[0m\u001b[0m\n\u001b[0m",
                        "\u001b[1;31mTypeError\u001b[0m: string indices must be integers"
                    ]
                }
            ],
            "source": [
                "rv_imp_sum[\"risk\"]"
            ]
        },
        {
            "cell_type": "code",
            "execution_count": null,
            "metadata": {},
            "outputs": [],
            "source": [
                "pd.DataFrame({'Risk of Choosing Baseline': })"
            ]
        },
        {
            "cell_type": "code",
            "execution_count": 23,
            "metadata": {},
            "outputs": [],
            "source": []
        },
        {
            "cell_type": "code",
            "execution_count": 24,
            "metadata": {},
            "outputs": [
                {
                    "data": {
                        "text/plain": [
                            "'{\"chance_to_win\": 0.11272024753369109, \"expected\": -0.06641223551737996, \"ci\": [-0.164590193250588, 0.04330366599717839], \"uplift\": {\"dist\": \"lognormal\", \"mean\": -0.06872030383408223, \"stddev\": 0.056691135675816184}, \"risk\": [1.6801688835711275, 38.186465536088804]}'"
                        ]
                    },
                    "execution_count": 24,
                    "metadata": {},
                    "output_type": "execute_result"
                }
            ],
            "source": [
                "json.dumps(gaussian_ab_test(m_a=ma, s_a=sa, n_a=na, m_b=mb, s_b=sb, n_b=nb))"
            ]
        },
        {
            "cell_type": "code",
            "execution_count": 70,
            "metadata": {},
            "outputs": [
                {
                    "data": {
                        "text/plain": [
                            "<bound method NDFrame._add_numeric_operations.<locals>.mean of                              mean         std\n",
                            "experiment_group                             \n",
                            "firebase_exp_3_group0  549.692333  879.192821\n",
                            "firebase_exp_3_group1  513.186036  721.630342>"
                        ]
                    },
                    "execution_count": 70,
                    "metadata": {},
                    "output_type": "execute_result"
                }
            ],
            "source": [
                "descriptive_metric.time_in_game_sum.mean"
            ]
        },
        {
            "cell_type": "code",
            "execution_count": 51,
            "metadata": {},
            "outputs": [
                {
                    "data": {
                        "text/plain": [
                            "experiment_group\n",
                            "firebase_exp_3_group0    879.192821\n",
                            "firebase_exp_3_group1    721.630342\n",
                            "Name: time_in_game_sum, dtype: float64"
                        ]
                    },
                    "execution_count": 51,
                    "metadata": {},
                    "output_type": "execute_result"
                }
            ],
            "source": [
                "df.groupby('experiment_group').time_in_game_sum.std()"
            ]
        },
        {
            "cell_type": "code",
            "execution_count": 56,
            "metadata": {},
            "outputs": [],
            "source": [
                "\n",
                "temp = df.groupby('experiment_group').agg({'time_in_game_sum': ['mean', 'std']})\n"
            ]
        },
        {
            "cell_type": "code",
            "execution_count": 59,
            "metadata": {},
            "outputs": [
                {
                    "data": {
                        "text/html": [
                            "<div>\n",
                            "<style scoped>\n",
                            "    .dataframe tbody tr th:only-of-type {\n",
                            "        vertical-align: middle;\n",
                            "    }\n",
                            "\n",
                            "    .dataframe tbody tr th {\n",
                            "        vertical-align: top;\n",
                            "    }\n",
                            "\n",
                            "    .dataframe thead th {\n",
                            "        text-align: right;\n",
                            "    }\n",
                            "</style>\n",
                            "<table border=\"1\" class=\"dataframe\">\n",
                            "  <thead>\n",
                            "    <tr style=\"text-align: right;\">\n",
                            "      <th></th>\n",
                            "      <th>mean</th>\n",
                            "      <th>std</th>\n",
                            "    </tr>\n",
                            "    <tr>\n",
                            "      <th>experiment_group</th>\n",
                            "      <th></th>\n",
                            "      <th></th>\n",
                            "    </tr>\n",
                            "  </thead>\n",
                            "  <tbody>\n",
                            "    <tr>\n",
                            "      <th>firebase_exp_3_group0</th>\n",
                            "      <td>549.692333</td>\n",
                            "      <td>879.192821</td>\n",
                            "    </tr>\n",
                            "    <tr>\n",
                            "      <th>firebase_exp_3_group1</th>\n",
                            "      <td>513.186036</td>\n",
                            "      <td>721.630342</td>\n",
                            "    </tr>\n",
                            "  </tbody>\n",
                            "</table>\n",
                            "</div>"
                        ],
                        "text/plain": [
                            "                             mean         std\n",
                            "experiment_group                             \n",
                            "firebase_exp_3_group0  549.692333  879.192821\n",
                            "firebase_exp_3_group1  513.186036  721.630342"
                        ]
                    },
                    "execution_count": 59,
                    "metadata": {},
                    "output_type": "execute_result"
                }
            ],
            "source": [
                "temp['time_in_game_sum']"
            ]
        }
    ],
    "metadata": {
        "interpreter": {
            "hash": "b3ba2566441a7c06988d0923437866b63cedc61552a5af99d1f4fb67d367b25f"
        },
        "kernelspec": {
            "display_name": "Python 3.8.8 64-bit ('base': conda)",
            "name": "python3"
        },
        "language_info": {
            "codemirror_mode": {
                "name": "ipython",
                "version": 3
            },
            "file_extension": ".py",
            "mimetype": "text/x-python",
            "name": "python",
            "nbconvert_exporter": "python",
            "pygments_lexer": "ipython3",
            "version": "3.8.8"
        },
        "orig_nbformat": 4
    },
    "nbformat": 4,
    "nbformat_minor": 2
}
